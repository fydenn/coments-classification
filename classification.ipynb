{
 "cells": [
  {
   "cell_type": "code",
   "execution_count": 222,
   "metadata": {},
   "outputs": [
    {
     "name": "stderr",
     "output_type": "stream",
     "text": [
      "[nltk_data] Downloading package punkt_tab to\n",
      "[nltk_data]     C:\\Users\\glebp\\AppData\\Roaming\\nltk_data...\n",
      "[nltk_data]   Package punkt_tab is already up-to-date!\n",
      "[nltk_data] Downloading package stopwords to\n",
      "[nltk_data]     C:\\Users\\glebp\\AppData\\Roaming\\nltk_data...\n",
      "[nltk_data]   Package stopwords is already up-to-date!\n"
     ]
    },
    {
     "data": {
      "text/plain": [
       "'cuda'"
      ]
     },
     "execution_count": 222,
     "metadata": {},
     "output_type": "execute_result"
    }
   ],
   "source": [
    "import os\n",
    "import numpy as np\n",
    "import pandas as pd\n",
    "\n",
    "import matplotlib.pyplot as plt\n",
    "import matplotlib.ticker as ticker\n",
    "import seaborn as sns\n",
    "\n",
    "import re\n",
    "import string\n",
    "import nltk\n",
    "from collections import Counter\n",
    "from tqdm.auto import tqdm\n",
    "from datetime import datetime\n",
    "\n",
    "from nltk.corpus import stopwords\n",
    "from nltk.tokenize import word_tokenize\n",
    "\n",
    "import torch\n",
    "import torch.nn as nn\n",
    "from torch.optim import Adam, lr_scheduler\n",
    "from torch.utils.data import DataLoader, Dataset\n",
    "\n",
    "from sklearn.model_selection import train_test_split\n",
    "from sklearn.metrics import f1_score\n",
    "\n",
    "nltk.download('punkt_tab')\n",
    "nltk.download('stopwords')\n",
    "\n",
    "device = 'cuda' if torch.cuda.is_available() else 'cpu'\n",
    "device"
   ]
  },
  {
   "cell_type": "markdown",
   "metadata": {},
   "source": [
    "## Data installing"
   ]
  },
  {
   "cell_type": "code",
   "execution_count": 2,
   "metadata": {},
   "outputs": [],
   "source": [
    "df = pd.read_csv(r'market_comments.csv').dropna()\n",
    "df['tonality'] = df['tonality'].apply(lambda x: 1 if x=='positive' else 0)"
   ]
  },
  {
   "cell_type": "markdown",
   "metadata": {},
   "source": [
    "## Data preparation and making custom Dataset"
   ]
  },
  {
   "cell_type": "code",
   "execution_count": 3,
   "metadata": {},
   "outputs": [],
   "source": [
    "def clean_text(text):\n",
    "    text = text.lower()  \n",
    "    text = re.sub(f\"[{string.punctuation}]\", \" \", text)  \n",
    "    text = re.sub(r\"\\d+\", \" \", text)  \n",
    "    words = word_tokenize(text)  \n",
    "    words = [word for word in words if word not in stopwords.words('russian')]  \n",
    "    return \" \".join(words)"
   ]
  },
  {
   "cell_type": "code",
   "execution_count": 4,
   "metadata": {},
   "outputs": [
    {
     "data": {
      "text/plain": [
       "'привет твои дела'"
      ]
     },
     "execution_count": 4,
     "metadata": {},
     "output_type": "execute_result"
    }
   ],
   "source": [
    "clean_text(\"Привет, как твои дела?\")"
   ]
  },
  {
   "cell_type": "code",
   "execution_count": 5,
   "metadata": {},
   "outputs": [
    {
     "name": "stderr",
     "output_type": "stream",
     "text": [
      "100%|██████████| 14281/14281 [00:02<00:00, 4865.29it/s]"
     ]
    },
    {
     "name": "stdout",
     "output_type": "stream",
     "text": [
      "Vocab size: 2653\n"
     ]
    },
    {
     "name": "stderr",
     "output_type": "stream",
     "text": [
      "\n"
     ]
    }
   ],
   "source": [
    "words = Counter()\n",
    "\n",
    "for example in tqdm(df.comment):\n",
    "    example = example.lower()\n",
    "    example = re.sub(f\"[{string.punctuation}]\", \"\", example)  \n",
    "    example = re.sub(r\"\\d+\", \"\", example)\n",
    "    for word in word_tokenize(example):\n",
    "        words[word] += 1\n",
    "\n",
    "vocab = set(['<unk>', '<bos>', '<eos>', '<pad>'])\n",
    "counter_threshold = 25\n",
    "\n",
    "for char, cnt in words.items():\n",
    "    if cnt > counter_threshold:\n",
    "        vocab.add(char)\n",
    "\n",
    "print(f'Vocab size: {len(vocab)}')\n",
    "\n",
    "word2ind = {char: i for i, char in enumerate(vocab)}\n",
    "ind2word = {i: char for char, i in word2ind.items()}"
   ]
  },
  {
   "cell_type": "code",
   "execution_count": 6,
   "metadata": {},
   "outputs": [],
   "source": [
    "class WordDataset:\n",
    "    def __init__(self, data):\n",
    "        self.data = data\n",
    "        self.unk_id = word2ind['<unk>']\n",
    "        self.bos_id = word2ind['<bos>']\n",
    "        self.eos_id = word2ind['<eos>']\n",
    "        self.pad_id = word2ind['<pad>']\n",
    "\n",
    "    def __getitem__(self, idx):\n",
    "        processed_text = clean_text(self.data.iloc[idx].comment)\n",
    "        tokenized_sentence = [self.bos_id]\n",
    "        tokenized_sentence += [\n",
    "            word2ind.get(word, self.unk_id) for word in word_tokenize(processed_text)\n",
    "            ]\n",
    "        tokenized_sentence += [self.eos_id]\n",
    "\n",
    "        train_sample = {\n",
    "            \"text\": tokenized_sentence,\n",
    "            \"label\": self.data.iloc[idx].tonality}\n",
    "\n",
    "        return train_sample\n",
    "\n",
    "    def __len__(self) -> int:\n",
    "        return len(self.data)"
   ]
  },
  {
   "cell_type": "code",
   "execution_count": 7,
   "metadata": {},
   "outputs": [],
   "source": [
    "def collate_fn_with_padding(\n",
    "        input_batch, pad_id=word2ind['<pad>'], max_len=128):\n",
    "   \n",
    "    seq_lens = [len(x['text']) for x in input_batch]\n",
    "    max_seq_len = min(max(seq_lens), max_len)\n",
    "\n",
    "    new_batch = []\n",
    "    for sequence in input_batch:\n",
    "        sequence['text'] = sequence['text'][:max_seq_len]\n",
    "        for _ in range(max_seq_len - len(sequence['text'])):\n",
    "            sequence['text'].append(pad_id)\n",
    "\n",
    "        new_batch.append(sequence['text'])\n",
    "\n",
    "    sequences = torch.LongTensor(new_batch).to(device)\n",
    "    labels = torch.FloatTensor([x['label'] for x in input_batch]).to(device)\n",
    "\n",
    "    new_batch = {\n",
    "        'input_ids': sequences,\n",
    "        'label': labels\n",
    "    }\n",
    "\n",
    "    return new_batch"
   ]
  },
  {
   "cell_type": "markdown",
   "metadata": {},
   "source": [
    "## Create and Make Model"
   ]
  },
  {
   "cell_type": "code",
   "execution_count": null,
   "metadata": {},
   "outputs": [],
   "source": [
    "from transformers import AutoModel\n",
    "\n",
    "class TransformerClassificationModel(nn.Module):\n",
    "    def __init__(self, base_transformer_model: str):\n",
    "        super().__init__()\n",
    "        \n",
    "        self.backbone = AutoModel.from_pretrained(base_transformer_model)\n",
    "        hidden_size = self.backbone.config.hidden_size\n",
    "        self.classifier = nn.Linear(hidden_size, 1)\n",
    "\n",
    "        self.sigmoid = nn.Sigmoid()\n",
    "\n",
    "    def forward(self, input_ids, attention_mask=None):\n",
    "        outputs = self.backbone(input_ids=input_ids, attention_mask=attention_mask)\n",
    "        last_hidden_state = outputs.last_hidden_state\n",
    "        pooled_output = last_hidden_state[:, 0]\n",
    "        preds = self.sigmoid(self.classifier(pooled_output))\n",
    "        return preds"
   ]
  },
  {
   "cell_type": "code",
   "execution_count": 9,
   "metadata": {},
   "outputs": [],
   "source": [
    "def freeze_backbone_function(model: TransformerClassificationModel, state):\n",
    "    for param in model.backbone.parameters():\n",
    "        param.requires_grad = state\n",
    "    return model"
   ]
  },
  {
   "cell_type": "code",
   "execution_count": 231,
   "metadata": {},
   "outputs": [],
   "source": [
    "def train_transformer(model, train_loader,val_loader, num_epoch, learning_rate=1e-5, freeze_backbone=True):\n",
    "    if freeze_backbone:\n",
    "        freeze_backbone_function(model, False)\n",
    "    else:\n",
    "        freeze_backbone_function(model, True)\n",
    "\n",
    "    optimizer = Adam(model.parameters(), lr=learning_rate)\n",
    "    scheduler = lr_scheduler.StepLR(optimizer, step_size=2, gamma=0.9)\n",
    "    criterion = nn.BCEWithLogitsLoss()\n",
    "    \n",
    "    device = torch.device(\"cuda\" if torch.cuda.is_available() else \"cpu\")\n",
    "    model.to(device)\n",
    "    \n",
    "    train_losses = []\n",
    "    val_losses = []\n",
    "\n",
    "    for epoch in range(1, num_epoch+1):   \n",
    "        epoch_train_loss = []\n",
    "        for i, batch in enumerate(tqdm(train_loader)):\n",
    "\n",
    "            model.train()\n",
    "            optimizer.zero_grad()\n",
    "            logits = model(batch['input_ids'])\n",
    "        \n",
    "            loss = criterion(logits.view(-1), batch['label'])\n",
    "            loss.backward()\n",
    "            optimizer.step()\n",
    "\n",
    "            epoch_train_loss.append(loss.item())\n",
    "\n",
    "        epoch_val_loss = []\n",
    "        for i, batch in enumerate(tqdm(val_loader)):\n",
    "\n",
    "            model.eval()\n",
    "            logits = model(batch['input_ids'])\n",
    "            loss = criterion(logits.view(-1), batch['label'])\n",
    "        \n",
    "            epoch_val_loss.append(loss.item())\n",
    "\n",
    "        scheduler.step()\n",
    "\n",
    "        model_dir = 'model_epochs'\n",
    "        torch.save(model.state_dict(), os.path.join(model_dir, 'epoch-{}.pth'.format(epoch)))\n",
    "        \n",
    "        print(F\"epoch: {epoch}.\\nTrain Loss:{(sum(epoch_train_loss)/len(epoch_train_loss))}.\\nVal Loss:{sum(epoch_val_loss)/len(epoch_val_loss)}.\")\n",
    "        \n",
    "        train_losses.append((sum(epoch_train_loss)/len(epoch_train_loss)))\n",
    "        val_losses.append(sum(epoch_val_loss)/len(epoch_val_loss))\n",
    "        \n",
    "\n",
    "    return model, train_losses, val_losses"
   ]
  },
  {
   "cell_type": "code",
   "execution_count": 219,
   "metadata": {},
   "outputs": [
    {
     "name": "stdout",
     "output_type": "stream",
     "text": [
      "Train data shape: 11424.\n",
      "Test data shape: 2857\n"
     ]
    }
   ],
   "source": [
    "train_data, test_data = train_test_split(df[['comment', 'tonality']], test_size=0.2)\n",
    "\n",
    "train_dataset = WordDataset(train_data)\n",
    "val_dataset = WordDataset(test_data)\n",
    "\n",
    "print(f\"Train data shape: {len(train_data)}.\\nTest data shape: {len(test_data)}\")\n"
   ]
  },
  {
   "cell_type": "code",
   "execution_count": 220,
   "metadata": {},
   "outputs": [],
   "source": [
    "BATCH_SIZE = 128\n",
    "train_dataloader = DataLoader(\n",
    "    train_dataset, collate_fn=collate_fn_with_padding, shuffle=True,  batch_size=BATCH_SIZE)\n",
    "\n",
    "val_dataloader = DataLoader(\n",
    "    val_dataset, collate_fn=collate_fn_with_padding,shuffle=False, batch_size=BATCH_SIZE)"
   ]
  },
  {
   "cell_type": "markdown",
   "metadata": {},
   "source": [
    "Take Albert model from Hugging Face"
   ]
  },
  {
   "cell_type": "code",
   "execution_count": null,
   "metadata": {},
   "outputs": [
    {
     "name": "stderr",
     "output_type": "stream",
     "text": [
      "100%|██████████| 90/90 [06:58<00:00,  4.65s/it]\n",
      "100%|██████████| 23/23 [01:46<00:00,  4.65s/it]\n"
     ]
    },
    {
     "name": "stdout",
     "output_type": "stream",
     "text": [
      "epoch: 1.\n",
      "Train Loss:0.5419730792442957.\n",
      "Val Loss:0.4940165955087413.\n"
     ]
    },
    {
     "name": "stderr",
     "output_type": "stream",
     "text": [
      "100%|██████████| 90/90 [06:58<00:00,  4.65s/it]\n",
      "100%|██████████| 23/23 [01:47<00:00,  4.67s/it]\n"
     ]
    },
    {
     "name": "stdout",
     "output_type": "stream",
     "text": [
      "epoch: 2.\n",
      "Train Loss:0.4654789702759849.\n",
      "Val Loss:0.4701699497907058.\n"
     ]
    },
    {
     "name": "stderr",
     "output_type": "stream",
     "text": [
      "100%|██████████| 90/90 [07:08<00:00,  4.77s/it]\n",
      "100%|██████████| 23/23 [01:41<00:00,  4.43s/it]\n"
     ]
    },
    {
     "name": "stdout",
     "output_type": "stream",
     "text": [
      "epoch: 3.\n",
      "Train Loss:0.4513701770040724.\n",
      "Val Loss:0.4659784319608108.\n"
     ]
    },
    {
     "name": "stderr",
     "output_type": "stream",
     "text": [
      "100%|██████████| 90/90 [06:47<00:00,  4.53s/it]\n",
      "100%|██████████| 23/23 [01:42<00:00,  4.46s/it]\n"
     ]
    },
    {
     "name": "stdout",
     "output_type": "stream",
     "text": [
      "epoch: 4.\n",
      "Train Loss:0.44939701855182645.\n",
      "Val Loss:0.46407685202101.\n"
     ]
    },
    {
     "name": "stderr",
     "output_type": "stream",
     "text": [
      "100%|██████████| 90/90 [06:32<00:00,  4.36s/it]\n",
      "100%|██████████| 23/23 [01:37<00:00,  4.23s/it]\n"
     ]
    },
    {
     "name": "stdout",
     "output_type": "stream",
     "text": [
      "epoch: 5.\n",
      "Train Loss:0.4464848829640283.\n",
      "Val Loss:0.4627599236757859.\n"
     ]
    },
    {
     "name": "stderr",
     "output_type": "stream",
     "text": [
      "100%|██████████| 90/90 [06:39<00:00,  4.43s/it]\n",
      "100%|██████████| 23/23 [01:47<00:00,  4.67s/it]\n"
     ]
    },
    {
     "name": "stdout",
     "output_type": "stream",
     "text": [
      "epoch: 6.\n",
      "Train Loss:0.4478457699219386.\n",
      "Val Loss:0.46177948816962866.\n"
     ]
    },
    {
     "name": "stderr",
     "output_type": "stream",
     "text": [
      "100%|██████████| 90/90 [06:49<00:00,  4.55s/it]\n",
      "100%|██████████| 23/23 [01:44<00:00,  4.54s/it]\n"
     ]
    },
    {
     "name": "stdout",
     "output_type": "stream",
     "text": [
      "epoch: 7.\n",
      "Train Loss:0.44576095839341484.\n",
      "Val Loss:0.4608000478018885.\n"
     ]
    },
    {
     "name": "stderr",
     "output_type": "stream",
     "text": [
      "100%|██████████| 90/90 [06:59<00:00,  4.66s/it]\n",
      "100%|██████████| 23/23 [01:46<00:00,  4.63s/it]\n"
     ]
    },
    {
     "name": "stdout",
     "output_type": "stream",
     "text": [
      "epoch: 8.\n",
      "Train Loss:0.4444672084516949.\n",
      "Val Loss:0.4598218669062075.\n"
     ]
    },
    {
     "name": "stderr",
     "output_type": "stream",
     "text": [
      "100%|██████████| 90/90 [06:27<00:00,  4.31s/it]\n",
      "100%|██████████| 23/23 [01:36<00:00,  4.20s/it]\n"
     ]
    },
    {
     "name": "stdout",
     "output_type": "stream",
     "text": [
      "epoch: 9.\n",
      "Train Loss:0.44549571772416435.\n",
      "Val Loss:0.45940035322438116.\n"
     ]
    },
    {
     "name": "stderr",
     "output_type": "stream",
     "text": [
      "100%|██████████| 90/90 [06:51<00:00,  4.57s/it]\n",
      "100%|██████████| 23/23 [01:45<00:00,  4.58s/it]"
     ]
    },
    {
     "name": "stdout",
     "output_type": "stream",
     "text": [
      "epoch: 10.\n",
      "Train Loss:0.44383358061313627.\n",
      "Val Loss:0.45872502612031024.\n"
     ]
    },
    {
     "name": "stderr",
     "output_type": "stream",
     "text": [
      "\n"
     ]
    }
   ],
   "source": [
    "albert_base_v2_model = TransformerClassificationModel('albert-base-v2').to(device)\n",
    "albert_base_v2__finetuned, train_loss, val_loss= train_transformer(albert_base_v2_model, train_dataloader,val_dataloader, num_epoch=10, learning_rate=2e-5, freeze_backbone=False)"
   ]
  },
  {
   "cell_type": "code",
   "execution_count": 234,
   "metadata": {},
   "outputs": [],
   "source": [
    "res_training = pd.DataFrame({'Train': train_loss, 'Test': val_loss})\n"
   ]
  },
  {
   "cell_type": "code",
   "execution_count": 235,
   "metadata": {},
   "outputs": [
    {
     "data": {
      "image/png": "[encoded data removed]",
      "text/plain": [
       "<Figure size 1000x500 with 1 Axes>"
      ]
     },
     "metadata": {},
     "output_type": "display_data"
    }
   ],
   "source": [
    "plt.figure(figsize=(10,5))\n",
    "fig_acc = sns.lineplot(data=res_training, linewidth=2.5)\n",
    "fig_acc.xaxis.set_major_locator(ticker.MultipleLocator(1)) \n",
    "fig_acc.set(xlabel='epoch', ylabel='loss')\n",
    "plt.show()\n"
   ]
  },
  {
   "cell_type": "code",
   "execution_count": 240,
   "metadata": {},
   "outputs": [],
   "source": [
    "model = albert_base_v2__finetuned_with_freezed_backbone"
   ]
  },
  {
   "cell_type": "code",
   "execution_count": 245,
   "metadata": {},
   "outputs": [],
   "source": [
    "def get_preds(model, val_data):\n",
    "    preds = []\n",
    "    model.eval()\n",
    "\n",
    "    for i in val_data:\n",
    "        data = torch.tensor(i['text']).unsqueeze(0)\n",
    "        preds.append(model(data).cpu().detach()[0][0])\n",
    "    \n",
    "    return preds\n",
    "\n",
    "preds = get_preds(model.cpu(), val_dataset)\n",
    "true = val_dataset.data.tonality"
   ]
  },
  {
   "cell_type": "code",
   "execution_count": 246,
   "metadata": {},
   "outputs": [
    {
     "data": {
      "image/png": "[encoded data removed]",
      "text/plain": [
       "<Figure size 640x480 with 1 Axes>"
      ]
     },
     "metadata": {},
     "output_type": "display_data"
    }
   ],
   "source": [
    "from sklearn.metrics import roc_curve\n",
    "\n",
    "fpr, tpr, _ = roc_curve(true,  preds)\n",
    "\n",
    "# построение ROC кривой\n",
    "plt.plot(fpr, tpr)\n",
    "plt.ylabel('True Positive Rate')\n",
    "plt.xlabel('False Positive Rate')\n",
    "plt.show()"
   ]
  }
 ],
 "metadata": {
  "kernelspec": {
   "display_name": "Python 3",
   "language": "python",
   "name": "python3"
  },
  "language_info": {
   "codemirror_mode": {
    "name": "ipython",
    "version": 3
   },
   "file_extension": ".py",
   "mimetype": "text/x-python",
   "name": "python",
   "nbconvert_exporter": "python",
   "pygments_lexer": "ipython3",
   "version": "3.10.10"
  }
 },
 "nbformat": 4,
 "nbformat_minor": 2
}
