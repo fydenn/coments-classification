{
 "cells": [
  {
   "cell_type": "code",
   "execution_count": 1,
   "metadata": {},
   "outputs": [
    {
     "name": "stderr",
     "output_type": "stream",
     "text": [
      "c:\\Users\\glebp\\AppData\\Local\\Programs\\Python\\Python313\\Lib\\site-packages\\tqdm\\auto.py:21: TqdmWarning: IProgress not found. Please update jupyter and ipywidgets. See https://ipywidgets.readthedocs.io/en/stable/user_install.html\n",
      "  from .autonotebook import tqdm as notebook_tqdm\n",
      "[nltk_data] Downloading package punkt_tab to\n",
      "[nltk_data]     C:\\Users\\glebp\\AppData\\Roaming\\nltk_data...\n",
      "[nltk_data]   Package punkt_tab is already up-to-date!\n",
      "[nltk_data] Downloading package stopwords to\n",
      "[nltk_data]     C:\\Users\\glebp\\AppData\\Roaming\\nltk_data...\n",
      "[nltk_data]   Package stopwords is already up-to-date!\n"
     ]
    },
    {
     "data": {
      "text/plain": [
       "'cuda'"
      ]
     },
     "execution_count": 1,
     "metadata": {},
     "output_type": "execute_result"
    }
   ],
   "source": [
    "import pandas as pd\n",
    "import numpy as np\n",
    "\n",
    "import matplotlib.pyplot as plt\n",
    "import matplotlib.ticker as ticker\n",
    "import seaborn as sns\n",
    "\n",
    "import re\n",
    "import string\n",
    "import nltk\n",
    "from collections import Counter\n",
    "from tqdm.auto import tqdm\n",
    "from datetime import datetime\n",
    "\n",
    "from nltk.corpus import stopwords\n",
    "from nltk.tokenize import word_tokenize\n",
    "\n",
    "import torch\n",
    "import torch.nn as nn\n",
    "import torch.optim as optim\n",
    "from torch.utils.data import DataLoader, Dataset\n",
    "\n",
    "from sklearn.model_selection import train_test_split\n",
    "from sklearn.metrics import f1_score\n",
    "\n",
    "nltk.download('punkt_tab')\n",
    "nltk.download('stopwords')\n",
    "\n",
    "device = 'cuda' if torch.cuda.is_available() else 'cpu'\n",
    "device"
   ]
  },
  {
   "cell_type": "markdown",
   "metadata": {},
   "source": [
    "Sentiment analysis"
   ]
  },
  {
   "cell_type": "code",
   "execution_count": 2,
   "metadata": {},
   "outputs": [
    {
     "data": {
      "text/html": [
       "<div>\n",
       "<style scoped>\n",
       "    .dataframe tbody tr th:only-of-type {\n",
       "        vertical-align: middle;\n",
       "    }\n",
       "\n",
       "    .dataframe tbody tr th {\n",
       "        vertical-align: top;\n",
       "    }\n",
       "\n",
       "    .dataframe thead th {\n",
       "        text-align: right;\n",
       "    }\n",
       "</style>\n",
       "<table border=\"1\" class=\"dataframe\">\n",
       "  <thead>\n",
       "    <tr style=\"text-align: right;\">\n",
       "      <th></th>\n",
       "      <th>item_category</th>\n",
       "      <th>item_id</th>\n",
       "      <th>brand</th>\n",
       "      <th>user_id</th>\n",
       "      <th>date</th>\n",
       "      <th>comment</th>\n",
       "      <th>rating</th>\n",
       "      <th>tonality</th>\n",
       "      <th>year</th>\n",
       "    </tr>\n",
       "  </thead>\n",
       "  <tbody>\n",
       "    <tr>\n",
       "      <th>0</th>\n",
       "      <td>401</td>\n",
       "      <td>4010201</td>\n",
       "      <td>826</td>\n",
       "      <td>2217</td>\n",
       "      <td>2013-06-28</td>\n",
       "      <td>2,5 года работала и все...устала! Лампочка гор...</td>\n",
       "      <td>2.0</td>\n",
       "      <td>negative</td>\n",
       "      <td>28</td>\n",
       "    </tr>\n",
       "    <tr>\n",
       "      <th>1</th>\n",
       "      <td>403</td>\n",
       "      <td>4030101</td>\n",
       "      <td>1425</td>\n",
       "      <td>1026</td>\n",
       "      <td>2010-07-04</td>\n",
       "      <td>Через 2 месяца после истечении гарантийного ср...</td>\n",
       "      <td>2.0</td>\n",
       "      <td>negative</td>\n",
       "      <td>4</td>\n",
       "    </tr>\n",
       "    <tr>\n",
       "      <th>2</th>\n",
       "      <td>401</td>\n",
       "      <td>4010401</td>\n",
       "      <td>124</td>\n",
       "      <td>2769</td>\n",
       "      <td>2010-05-27</td>\n",
       "      <td>пользуюсь уже три недели. нареканий ни каких н...</td>\n",
       "      <td>4.0</td>\n",
       "      <td>positive</td>\n",
       "      <td>27</td>\n",
       "    </tr>\n",
       "    <tr>\n",
       "      <th>3</th>\n",
       "      <td>203</td>\n",
       "      <td>2030301</td>\n",
       "      <td>93</td>\n",
       "      <td>508</td>\n",
       "      <td>2016-10-11</td>\n",
       "      <td>Ребят этот системный блок подойдёт для игры кс...</td>\n",
       "      <td>5.0</td>\n",
       "      <td>positive</td>\n",
       "      <td>11</td>\n",
       "    </tr>\n",
       "    <tr>\n",
       "      <th>4</th>\n",
       "      <td>205</td>\n",
       "      <td>2050201</td>\n",
       "      <td>656</td>\n",
       "      <td>1049</td>\n",
       "      <td>2010-02-26</td>\n",
       "      <td>я считаю, что яри замечательный телефон! Прият...</td>\n",
       "      <td>5.0</td>\n",
       "      <td>positive</td>\n",
       "      <td>26</td>\n",
       "    </tr>\n",
       "  </tbody>\n",
       "</table>\n",
       "</div>"
      ],
      "text/plain": [
       "   item_category  item_id  brand  user_id       date  \\\n",
       "0            401  4010201    826     2217 2013-06-28   \n",
       "1            403  4030101   1425     1026 2010-07-04   \n",
       "2            401  4010401    124     2769 2010-05-27   \n",
       "3            203  2030301     93      508 2016-10-11   \n",
       "4            205  2050201    656     1049 2010-02-26   \n",
       "\n",
       "                                             comment  rating  tonality  year  \n",
       "0  2,5 года работала и все...устала! Лампочка гор...     2.0  negative    28  \n",
       "1  Через 2 месяца после истечении гарантийного ср...     2.0  negative     4  \n",
       "2  пользуюсь уже три недели. нареканий ни каких н...     4.0  positive    27  \n",
       "3  Ребят этот системный блок подойдёт для игры кс...     5.0  positive    11  \n",
       "4  я считаю, что яри замечательный телефон! Прият...     5.0  positive    26  "
      ]
     },
     "execution_count": 2,
     "metadata": {},
     "output_type": "execute_result"
    }
   ],
   "source": [
    "df = pd.read_csv(r'market_comments.csv').dropna()\n",
    "df['date'] = pd.to_datetime(df['date'])\n",
    "df['year'] = df['date'].dt.day\n",
    "df.head()"
   ]
  },
  {
   "cell_type": "code",
   "execution_count": 3,
   "metadata": {},
   "outputs": [
    {
     "name": "stdout",
     "output_type": "stream",
     "text": [
      "<class 'pandas.core.frame.DataFrame'>\n",
      "RangeIndex: 14281 entries, 0 to 14280\n",
      "Data columns (total 9 columns):\n",
      " #   Column         Non-Null Count  Dtype         \n",
      "---  ------         --------------  -----         \n",
      " 0   item_category  14281 non-null  int64         \n",
      " 1   item_id        14281 non-null  int64         \n",
      " 2   brand          14281 non-null  int64         \n",
      " 3   user_id        14281 non-null  int64         \n",
      " 4   date           14281 non-null  datetime64[ns]\n",
      " 5   comment        14281 non-null  object        \n",
      " 6   rating         14281 non-null  float64       \n",
      " 7   tonality       14281 non-null  object        \n",
      " 8   year           14281 non-null  int32         \n",
      "dtypes: datetime64[ns](1), float64(1), int32(1), int64(4), object(2)\n",
      "memory usage: 948.5+ KB\n"
     ]
    }
   ],
   "source": [
    "df.info()"
   ]
  },
  {
   "cell_type": "code",
   "execution_count": 4,
   "metadata": {},
   "outputs": [
    {
     "data": {
      "image/png": "[encoded data removed]",
      "text/plain": [
       "<Figure size 1200x600 with 1 Axes>"
      ]
     },
     "metadata": {},
     "output_type": "display_data"
    },
    {
     "data": {
      "image/png": "[encoded data removed]",
      "text/plain": [
       "<Figure size 640x480 with 1 Axes>"
      ]
     },
     "metadata": {},
     "output_type": "display_data"
    }
   ],
   "source": [
    "plt.figure(figsize=(12, 6))\n",
    "df['date'].dt.year.value_counts().sort_index().plot(kind='bar')\n",
    "plt.title('Number of Reviews by Year')\n",
    "plt.xlabel('Year')\n",
    "plt.ylabel('Count')\n",
    "plt.show()\n",
    "\n",
    "sns.histplot(df['tonality'])\n",
    "plt.show()"
   ]
  },
  {
   "cell_type": "markdown",
   "metadata": {},
   "source": [
    "Data preparation and making custom Dataset"
   ]
  },
  {
   "cell_type": "code",
   "execution_count": 5,
   "metadata": {},
   "outputs": [],
   "source": [
    "def neg_to_0(ex):\n",
    "    return (0 if ex=='negative' else 1)\n",
    "df['tonality'] = df['tonality'].apply(neg_to_0)"
   ]
  },
  {
   "cell_type": "code",
   "execution_count": 6,
   "metadata": {},
   "outputs": [],
   "source": [
    "def clean_text(text):\n",
    "    text = text.lower()  \n",
    "    text = re.sub(f\"[{string.punctuation}]\", \" \", text)  \n",
    "    text = re.sub(r\"\\d+\", \" \", text)  \n",
    "    words = word_tokenize(text)  \n",
    "    words = [word for word in words if word not in stopwords.words('russian')]  \n",
    "    return \" \".join(words)"
   ]
  },
  {
   "cell_type": "code",
   "execution_count": 7,
   "metadata": {},
   "outputs": [
    {
     "name": "stderr",
     "output_type": "stream",
     "text": [
      "100%|██████████| 14281/14281 [00:02<00:00, 5538.25it/s]"
     ]
    },
    {
     "name": "stdout",
     "output_type": "stream",
     "text": [
      "Размер словаря: 2653\n"
     ]
    },
    {
     "name": "stderr",
     "output_type": "stream",
     "text": [
      "\n"
     ]
    }
   ],
   "source": [
    "words = Counter()\n",
    "\n",
    "for example in tqdm(df.comment):\n",
    "    example = example.lower()\n",
    "    example = re.sub(f\"[{string.punctuation}]\", \"\", example)  \n",
    "    example = re.sub(r\"\\d+\", \"\", example)\n",
    "    for word in word_tokenize(example):\n",
    "        words[word] += 1\n",
    "\n",
    "vocab = set(['<unk>', '<bos>', '<eos>', '<pad>'])\n",
    "counter_threshold = 25\n",
    "\n",
    "for char, cnt in words.items():\n",
    "    if cnt > counter_threshold:\n",
    "        vocab.add(char)\n",
    "\n",
    "print(f'Размер словаря: {len(vocab)}')\n",
    "\n",
    "word2ind = {char: i for i, char in enumerate(vocab)}\n",
    "ind2word = {i: char for char, i in word2ind.items()}"
   ]
  },
  {
   "cell_type": "code",
   "execution_count": 8,
   "metadata": {},
   "outputs": [],
   "source": [
    "class WordDataset:\n",
    "    def __init__(self, data):\n",
    "        self.data = data\n",
    "        self.unk_id = word2ind['<unk>']\n",
    "        self.bos_id = word2ind['<bos>']\n",
    "        self.eos_id = word2ind['<eos>']\n",
    "        self.pad_id = word2ind['<pad>']\n",
    "\n",
    "    def __getitem__(self, idx):\n",
    "        processed_text = clean_text(self.data.iloc[idx].comment)\n",
    "        tokenized_sentence = [self.bos_id]\n",
    "        tokenized_sentence += [\n",
    "            word2ind.get(word, self.unk_id) for word in word_tokenize(processed_text)\n",
    "            ]\n",
    "        tokenized_sentence += [self.eos_id]\n",
    "\n",
    "        train_sample = {\n",
    "            \"text\": tokenized_sentence,\n",
    "            \"label\": self.data.iloc[idx].tonality\n",
    "        }\n",
    "\n",
    "        return train_sample\n",
    "\n",
    "    def __len__(self) -> int:\n",
    "        return len(self.data)"
   ]
  },
  {
   "cell_type": "code",
   "execution_count": 9,
   "metadata": {},
   "outputs": [],
   "source": [
    "def collate_fn_with_padding(\n",
    "        input_batch, pad_id=word2ind['<pad>'], max_len=128):\n",
    "   \n",
    "    seq_lens = [len(x['text']) for x in input_batch]\n",
    "    max_seq_len = min(max(seq_lens), max_len)\n",
    "\n",
    "    new_batch = []\n",
    "    for sequence in input_batch:\n",
    "        sequence['text'] = sequence['text'][:max_seq_len]\n",
    "        for _ in range(max_seq_len - len(sequence['text'])):\n",
    "            sequence['text'].append(pad_id)\n",
    "\n",
    "        new_batch.append(sequence['text'])\n",
    "\n",
    "    sequences = torch.LongTensor(new_batch).to(device)\n",
    "    labels = torch.LongTensor([x['label'] for x in input_batch]).to(device)\n",
    "\n",
    "    new_batch = {\n",
    "        'input_ids': sequences,\n",
    "        'label': labels\n",
    "    }\n",
    "\n",
    "    return new_batch"
   ]
  },
  {
   "cell_type": "markdown",
   "metadata": {},
   "source": [
    "Model Training"
   ]
  },
  {
   "cell_type": "code",
   "execution_count": 10,
   "metadata": {},
   "outputs": [
    {
     "name": "stdout",
     "output_type": "stream",
     "text": [
      "Train data shape: 11424.\n",
      "Test data shape: 2857\n"
     ]
    }
   ],
   "source": [
    "X_train, X_test, y_train, y_test = train_test_split(df.comment, df.tonality, test_size=0.2)\n",
    "\n",
    "train_data = pd.DataFrame({'comment': X_train, 'tonality': y_train})\n",
    "test_data = pd.DataFrame({'comment': X_test, 'tonality': y_test})\n",
    "\n",
    "train_dataset = WordDataset(train_data)\n",
    "val_dataset = WordDataset(test_data)\n",
    "\n",
    "print(f\"Train data shape: {len(train_data)}.\\nTest data shape: {len(test_data)}\")\n"
   ]
  },
  {
   "cell_type": "code",
   "execution_count": 11,
   "metadata": {},
   "outputs": [],
   "source": [
    "class_counts = np.bincount([sample['label'] for sample in train_dataset])\n",
    "class_weights = 1/class_counts\n",
    "\n",
    "\n",
    "samples_weights = np.array([sample['label'] for sample in train_dataset])\n",
    "train_sampler = torch.utils.data.WeightedRandomSampler(weights=samples_weights, num_samples=len(samples_weights), replacement=True)"
   ]
  },
  {
   "cell_type": "code",
   "execution_count": 12,
   "metadata": {},
   "outputs": [],
   "source": [
    "from model import CharLM"
   ]
  },
  {
   "cell_type": "code",
   "execution_count": 13,
   "metadata": {},
   "outputs": [],
   "source": [
    "from transformers import AutoModel"
   ]
  },
  {
   "cell_type": "code",
   "execution_count": 14,
   "metadata": {},
   "outputs": [],
   "source": [
    "class TransformerClassificationModel(nn.Module):\n",
    "    def __init__(self, base_transformer_model: str, num_labels: int):\n",
    "        super().__init__()\n",
    "        \n",
    "        self.backbone = AutoModel.from_pretrained(base_transformer_model)\n",
    "        hidden_size = self.backbone.config.hidden_size\n",
    "        self.classifier = nn.Linear(hidden_size, num_labels)\n",
    "\n",
    "    def forward(self, input_ids, attention_mask=None):\n",
    "        outputs = self.backbone(input_ids=input_ids, attention_mask=attention_mask)\n",
    "        last_hidden_state = outputs.last_hidden_state\n",
    "        pooled_output = last_hidden_state[:, 0]\n",
    "        logits = self.classifier(pooled_output)\n",
    "        return logits"
   ]
  },
  {
   "cell_type": "code",
   "execution_count": 15,
   "metadata": {},
   "outputs": [],
   "source": [
    "def freeze_backbone_function(model: TransformerClassificationModel, state):\n",
    "    for param in model.backbone.parameters():\n",
    "        param.requires_grad = state\n",
    "    return model"
   ]
  },
  {
   "cell_type": "code",
   "execution_count": 16,
   "metadata": {},
   "outputs": [],
   "source": [
    "from sklearn.metrics import f1_score"
   ]
  },
  {
   "cell_type": "code",
   "execution_count": 22,
   "metadata": {},
   "outputs": [],
   "source": [
    "def train_transformer(model, train_loader, val_loader, num_epoch, learning_rate=1e-5, freeze_backbone=True):\n",
    "    if freeze_backbone:\n",
    "        freeze_backbone_function(model, False)\n",
    "    else:\n",
    "        freeze_backbone_function(model, True)\n",
    "\n",
    "    optimizer = optim.Adam(model.parameters(), lr=learning_rate)\n",
    "    criterion = nn.CrossEntropyLoss()\n",
    "    \n",
    "    device = torch.device(\"cuda\" if torch.cuda.is_available() else \"cpu\")\n",
    "    model.to(device)\n",
    "    \n",
    "    model.train()\n",
    "    train_losses = []\n",
    "    val_losses = []\n",
    "    train_accuracy = []\n",
    "    val_accuracy = []\n",
    "\n",
    "    for epoch in range(1, num_epoch+1):\n",
    "    \n",
    "        epoch_train_acc = []\n",
    "        epoch_train_loss = []\n",
    "        for i, batch in enumerate(tqdm(train_loader)):\n",
    "\n",
    "            model.train()\n",
    "            optimizer.zero_grad()\n",
    "            logits = model(batch['input_ids'])\n",
    "            outp = torch.argmax(logits, dim=1)\n",
    "            \n",
    "            acc = int(sum(batch['label'] == outp)) / batch['label'].size(0)\n",
    "        \n",
    "            loss = criterion(logits, batch['label'])\n",
    "            loss.backward()\n",
    "            optimizer.step()\n",
    "\n",
    "            epoch_train_loss.append(loss.item())\n",
    "            epoch_train_acc.append(acc)\n",
    "        \n",
    "        epoch_val_loss = []\n",
    "        epoch_val_acc = []\n",
    "        for i, batch in enumerate(tqdm(val_loader)):\n",
    "\n",
    "            model.eval()\n",
    "            logits = model(batch['input_ids'].to('cpu'))\n",
    "            outp = torch.argmax(logits, dim=1)\n",
    "            \n",
    "            acc = int(sum(batch['label'] == outp)) / batch['label'].to('cpu').size(0)\n",
    "            loss = criterion(logits, batch['label'])\n",
    "        \n",
    "            epoch_val_acc.append(acc)\n",
    "            epoch_val_loss.append(loss)\n",
    "        \n",
    "        epoch_train_loss = np.mean(epoch_train_loss)\n",
    "        epoch_train_acc = np.mean(epoch_train_acc)\n",
    "        epoch_val_loss = np.mean(epoch_val_loss)\n",
    "        epoch_val_acc = np.mean(epoch_val_acc)\n",
    "            \n",
    "        print(F\"epoch: {epoch}.\")\n",
    "        print(F\"Train Loss:{epoch_train_loss}.\")\n",
    "        print(f\"\\nTrain Accuracy:{epoch_train_acc}.\")\n",
    "        print(f\"\\nVal Loss:{epoch_val_loss}\")\n",
    "        print(f\"(\\nVal Accuracy{epoch_val_acc}\")\n",
    "        \n",
    "        train_losses.append(epoch_train_loss)\n",
    "        val_losses.append(epoch_val_loss)\n",
    "        train_accuracy.append(epoch_train_acc)\n",
    "        val_accuracy.append(epoch_val_acc)\n",
    "\n",
    "\n",
    "    return model, train_losses, val_losses, train_accuracy, val_accuracy"
   ]
  },
  {
   "cell_type": "code",
   "execution_count": 18,
   "metadata": {},
   "outputs": [],
   "source": [
    "BATCH_SIZE = 128\n",
    "train_dataloader = DataLoader(\n",
    "    train_dataset, collate_fn=collate_fn_with_padding, shuffle=True,  batch_size=BATCH_SIZE)\n",
    "\n",
    "val_dataloader = DataLoader(\n",
    "    val_dataset, collate_fn=collate_fn_with_padding,shuffle=False, batch_size=BATCH_SIZE)"
   ]
  },
  {
   "cell_type": "code",
   "execution_count": null,
   "metadata": {},
   "outputs": [
    {
     "name": "stderr",
     "output_type": "stream",
     "text": [
      "  0%|          | 0/90 [00:00<?, ?it/s]"
     ]
    }
   ],
   "source": [
    "albert_base_v2_model = TransformerClassificationModel('albert-base-v2', 2).to(device)\n",
    "albert_base_v2__finetuned_with_freezed_backbone, train_loss, val_loss, train_acc, val_acc = train_transformer(albert_base_v2_model, train_dataloader,val_dataloader, num_epoch=5, learning_rate=2e-5, freeze_backbone=True)"
   ]
  },
  {
   "cell_type": "code",
   "execution_count": null,
   "metadata": {},
   "outputs": [],
   "source": [
    "model = CharLM(hidden_dim=256, vocab_size=len(vocab)).to(device)\n",
    "criterion = nn.CrossEntropyLoss(ignore_index=word2ind['<pad>'])\n",
    "optimizer = torch.optim.Adam(model.parameters())"
   ]
  },
  {
   "cell_type": "code",
   "execution_count": null,
   "metadata": {},
   "outputs": [
    {
     "data": {
      "text/html": [
       "<div>\n",
       "<style scoped>\n",
       "    .dataframe tbody tr th:only-of-type {\n",
       "        vertical-align: middle;\n",
       "    }\n",
       "\n",
       "    .dataframe tbody tr th {\n",
       "        vertical-align: top;\n",
       "    }\n",
       "\n",
       "    .dataframe thead th {\n",
       "        text-align: right;\n",
       "    }\n",
       "</style>\n",
       "<table border=\"1\" class=\"dataframe\">\n",
       "  <thead>\n",
       "    <tr style=\"text-align: right;\">\n",
       "      <th></th>\n",
       "      <th>Train</th>\n",
       "      <th>Val</th>\n",
       "      <th>Loss</th>\n",
       "    </tr>\n",
       "  </thead>\n",
       "  <tbody>\n",
       "    <tr>\n",
       "      <th>0</th>\n",
       "      <td>0.839149</td>\n",
       "      <td>0.829616</td>\n",
       "      <td>0.446458</td>\n",
       "    </tr>\n",
       "    <tr>\n",
       "      <th>1</th>\n",
       "      <td>0.839149</td>\n",
       "      <td>0.829616</td>\n",
       "      <td>0.442932</td>\n",
       "    </tr>\n",
       "    <tr>\n",
       "      <th>2</th>\n",
       "      <td>0.838628</td>\n",
       "      <td>0.829616</td>\n",
       "      <td>0.441933</td>\n",
       "    </tr>\n",
       "    <tr>\n",
       "      <th>3</th>\n",
       "      <td>0.835851</td>\n",
       "      <td>0.829616</td>\n",
       "      <td>0.446122</td>\n",
       "    </tr>\n",
       "    <tr>\n",
       "      <th>4</th>\n",
       "      <td>0.841580</td>\n",
       "      <td>0.834711</td>\n",
       "      <td>0.392562</td>\n",
       "    </tr>\n",
       "  </tbody>\n",
       "</table>\n",
       "</div>"
      ],
      "text/plain": [
       "      Train       Val      Loss\n",
       "0  0.839149  0.829616  0.446458\n",
       "1  0.839149  0.829616  0.442932\n",
       "2  0.838628  0.829616  0.441933\n",
       "3  0.835851  0.829616  0.446122\n",
       "4  0.841580  0.834711  0.392562"
      ]
     },
     "execution_count": 101,
     "metadata": {},
     "output_type": "execute_result"
    }
   ],
   "source": [
    "res_training = pd.DataFrame({'Train': train_accuracy, 'Val': val_accuracy, 'Loss': losses})\n",
    "res_training"
   ]
  },
  {
   "cell_type": "code",
   "execution_count": null,
   "metadata": {},
   "outputs": [
    {
     "data": {
      "image/png": "[encoded data removed]",
      "text/plain": [
       "<Figure size 1000x500 with 1 Axes>"
      ]
     },
     "metadata": {},
     "output_type": "display_data"
    },
    {
     "data": {
      "image/png": "[encoded data removed]",
      "text/plain": [
       "<Figure size 640x480 with 1 Axes>"
      ]
     },
     "metadata": {},
     "output_type": "display_data"
    }
   ],
   "source": [
    "plt.figure(figsize=(10,5))\n",
    "fig_acc = sns.lineplot(data=res_training.drop(['Loss'], axis=1), linewidth=2.5)\n",
    "fig_acc.xaxis.set_major_locator(ticker.MultipleLocator(1)) \n",
    "fig_acc.set(xlabel='epoch', ylabel='Accuracy')\n",
    "plt.show()\n",
    "\n",
    "fig_loss = sns.lineplot(data=res_training['Loss'], linewidth=2.5)\n",
    "fig_loss.xaxis.set_major_locator(ticker.MultipleLocator(1)) \n",
    "fig_loss.set(xlabel='epoch', ylabel='Loss')\n",
    "plt.show()"
   ]
  }
 ],
 "metadata": {
  "kernelspec": {
   "display_name": "Python 3",
   "language": "python",
   "name": "python3"
  },
  "language_info": {
   "codemirror_mode": {
    "name": "ipython",
    "version": 3
   },
   "file_extension": ".py",
   "mimetype": "text/x-python",
   "name": "python",
   "nbconvert_exporter": "python",
   "pygments_lexer": "ipython3",
   "version": "3.13.2"
  }
 },
 "nbformat": 4,
 "nbformat_minor": 2
}
